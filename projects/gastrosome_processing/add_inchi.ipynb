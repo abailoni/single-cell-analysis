{
 "cells": [
  {
   "cell_type": "markdown",
   "metadata": {
    "collapsed": true,
    "pycharm": {
     "name": "#%% md\n"
    }
   },
   "source": [
    "# Add inchi formula to DE analysis results\n",
    "\n",
    "### Load data"
   ]
  },
  {
   "cell_type": "code",
   "execution_count": 1,
   "outputs": [],
   "source": [
    "import numpy as np\n",
    "import pandas as pd\n",
    "import matplotlib.pyplot as plt\n",
    "import seaborn as sns\n",
    "\n",
    "import scanpy as sc\n",
    "import outer_spacem as osm\n",
    "import os\n",
    "\n",
    "%matplotlib inline\n",
    "%config InlineBackend.figure_formats = ['retina']\n",
    "\n",
    "sns.set(\n",
    "    rc={\n",
    "        \"figure.figsize\":(5, 5),\n",
    "        \"legend.frameon\": False\n",
    "    },\n",
    "    style=\"ticks\",\n",
    "    context=\"talk\"\n",
    ")"
   ],
   "metadata": {
    "collapsed": false,
    "pycharm": {
     "name": "#%%\n"
    }
   }
  },
  {
   "cell_type": "code",
   "execution_count": 42,
   "outputs": [],
   "source": [
    "# Load adata\n",
    "adata = sc.read(\"/Users/alberto-mac/EMBL_ATeam/projects/gastrosome/Drug_W8/reprocessing/single_cell_analysis/spatiomolecular_adata.h5ad\")\n",
    "\n",
    "# MS_databases = {\n",
    "#     \"CoreMetabolome\": \"/Users/alberto-mac/EMBL_ATeam/projects/gastrosome/molecules_databases/core_metabolome_v3.csv\",\n",
    "#     \"SwissLipids\": \"/Users/alberto-mac/EMBL_ATeam/projects/gastrosome/molecules_databases/swisslipids_2018-02-02-v2.tsv\"\n",
    "# }\n",
    "\n",
    "MS_databases = {\n",
    "    \"CoreMetabolome\": pd.read_csv(\n",
    "    \"/Users/alberto-mac/EMBL_ATeam/projects/gastrosome/molecules_databases/core_metabolome_v3.csv\",\n",
    "    sep=\"\\t\"),\n",
    "    \"SwissLipids\": pd.read_csv(\n",
    "    \"/Users/alberto-mac/EMBL_ATeam/projects/gastrosome/molecules_databases/swisslipids_2018-02-02-v2.tsv\",\n",
    "    sep=\"\\t\")\n",
    "}"
   ],
   "metadata": {
    "collapsed": false,
    "pycharm": {
     "name": "#%%\n"
    }
   }
  },
  {
   "cell_type": "code",
   "execution_count": 43,
   "outputs": [],
   "source": [
    "added_column_name = \"inchi\"\n",
    "var_df = adata.var.copy()\n",
    "\n",
    "db_name = \"CoreMetabolome\"\n",
    "db = MS_databases[db_name]\n",
    "\n",
    "\n",
    "# for db_name in MS_databases:\n",
    "#     db = MS_databases[db_name]\n",
    "\n",
    "\n"
   ],
   "metadata": {
    "collapsed": false,
    "pycharm": {
     "name": "#%%\n"
    }
   }
  },
  {
   "cell_type": "code",
   "execution_count": 46,
   "outputs": [
    {
     "ename": "KeyboardInterrupt",
     "evalue": "",
     "output_type": "error",
     "traceback": [
      "\u001B[0;31m---------------------------------------------------------------------------\u001B[0m",
      "\u001B[0;31mKeyboardInterrupt\u001B[0m                         Traceback (most recent call last)",
      "Input \u001B[0;32mIn [46]\u001B[0m, in \u001B[0;36m<module>\u001B[0;34m\u001B[0m\n\u001B[1;32m      8\u001B[0m new_inchi \u001B[38;5;241m=\u001B[39m \u001B[38;5;28;01mNone\u001B[39;00m\n\u001B[1;32m      9\u001B[0m \u001B[38;5;28;01mfor\u001B[39;00m db \u001B[38;5;129;01min\u001B[39;00m molecule_databases:\n\u001B[1;32m     10\u001B[0m     \u001B[38;5;66;03m# TODO: assert that inchi and id are in db\u001B[39;00m\n\u001B[0;32m---> 11\u001B[0m     lookup \u001B[38;5;241m=\u001B[39m db[\u001B[43mdb\u001B[49m\u001B[38;5;241;43m.\u001B[39;49m\u001B[43mid\u001B[49m\u001B[43m \u001B[49m\u001B[38;5;241;43m==\u001B[39;49m\u001B[43m \u001B[49m\u001B[38;5;28;43mid\u001B[39;49m]\u001B[38;5;241m.\u001B[39minchi\n\u001B[1;32m     12\u001B[0m     \u001B[38;5;28;01mif\u001B[39;00m \u001B[38;5;28mlen\u001B[39m(lookup) \u001B[38;5;241m==\u001B[39m \u001B[38;5;241m1\u001B[39m:\n\u001B[1;32m     13\u001B[0m         new_inchi \u001B[38;5;241m=\u001B[39m \u001B[38;5;28mstr\u001B[39m(lookup\u001B[38;5;241m.\u001B[39mvalues[\u001B[38;5;241m0\u001B[39m])\n",
      "File \u001B[0;32m~/miniconda3/envs/outerSpacem/lib/python3.8/site-packages/pandas/core/ops/common.py:70\u001B[0m, in \u001B[0;36m_unpack_zerodim_and_defer.<locals>.new_method\u001B[0;34m(self, other)\u001B[0m\n\u001B[1;32m     66\u001B[0m             \u001B[38;5;28;01mreturn\u001B[39;00m \u001B[38;5;28mNotImplemented\u001B[39m\n\u001B[1;32m     68\u001B[0m other \u001B[38;5;241m=\u001B[39m item_from_zerodim(other)\n\u001B[0;32m---> 70\u001B[0m \u001B[38;5;28;01mreturn\u001B[39;00m \u001B[43mmethod\u001B[49m\u001B[43m(\u001B[49m\u001B[38;5;28;43mself\u001B[39;49m\u001B[43m,\u001B[49m\u001B[43m \u001B[49m\u001B[43mother\u001B[49m\u001B[43m)\u001B[49m\n",
      "File \u001B[0;32m~/miniconda3/envs/outerSpacem/lib/python3.8/site-packages/pandas/core/arraylike.py:40\u001B[0m, in \u001B[0;36mOpsMixin.__eq__\u001B[0;34m(self, other)\u001B[0m\n\u001B[1;32m     38\u001B[0m \u001B[38;5;129m@unpack_zerodim_and_defer\u001B[39m(\u001B[38;5;124m\"\u001B[39m\u001B[38;5;124m__eq__\u001B[39m\u001B[38;5;124m\"\u001B[39m)\n\u001B[1;32m     39\u001B[0m \u001B[38;5;28;01mdef\u001B[39;00m \u001B[38;5;21m__eq__\u001B[39m(\u001B[38;5;28mself\u001B[39m, other):\n\u001B[0;32m---> 40\u001B[0m     \u001B[38;5;28;01mreturn\u001B[39;00m \u001B[38;5;28;43mself\u001B[39;49m\u001B[38;5;241;43m.\u001B[39;49m\u001B[43m_cmp_method\u001B[49m\u001B[43m(\u001B[49m\u001B[43mother\u001B[49m\u001B[43m,\u001B[49m\u001B[43m \u001B[49m\u001B[43moperator\u001B[49m\u001B[38;5;241;43m.\u001B[39;49m\u001B[43meq\u001B[49m\u001B[43m)\u001B[49m\n",
      "File \u001B[0;32m~/miniconda3/envs/outerSpacem/lib/python3.8/site-packages/pandas/core/series.py:5623\u001B[0m, in \u001B[0;36mSeries._cmp_method\u001B[0;34m(self, other, op)\u001B[0m\n\u001B[1;32m   5620\u001B[0m rvalues \u001B[38;5;241m=\u001B[39m extract_array(other, extract_numpy\u001B[38;5;241m=\u001B[39m\u001B[38;5;28;01mTrue\u001B[39;00m, extract_range\u001B[38;5;241m=\u001B[39m\u001B[38;5;28;01mTrue\u001B[39;00m)\n\u001B[1;32m   5622\u001B[0m \u001B[38;5;28;01mwith\u001B[39;00m np\u001B[38;5;241m.\u001B[39merrstate(\u001B[38;5;28mall\u001B[39m\u001B[38;5;241m=\u001B[39m\u001B[38;5;124m\"\u001B[39m\u001B[38;5;124mignore\u001B[39m\u001B[38;5;124m\"\u001B[39m):\n\u001B[0;32m-> 5623\u001B[0m     res_values \u001B[38;5;241m=\u001B[39m \u001B[43mops\u001B[49m\u001B[38;5;241;43m.\u001B[39;49m\u001B[43mcomparison_op\u001B[49m\u001B[43m(\u001B[49m\u001B[43mlvalues\u001B[49m\u001B[43m,\u001B[49m\u001B[43m \u001B[49m\u001B[43mrvalues\u001B[49m\u001B[43m,\u001B[49m\u001B[43m \u001B[49m\u001B[43mop\u001B[49m\u001B[43m)\u001B[49m\n\u001B[1;32m   5625\u001B[0m \u001B[38;5;28;01mreturn\u001B[39;00m \u001B[38;5;28mself\u001B[39m\u001B[38;5;241m.\u001B[39m_construct_result(res_values, name\u001B[38;5;241m=\u001B[39mres_name)\n",
      "File \u001B[0;32m~/miniconda3/envs/outerSpacem/lib/python3.8/site-packages/pandas/core/ops/array_ops.py:283\u001B[0m, in \u001B[0;36mcomparison_op\u001B[0;34m(left, right, op)\u001B[0m\n\u001B[1;32m    280\u001B[0m     \u001B[38;5;28;01mreturn\u001B[39;00m invalid_comparison(lvalues, rvalues, op)\n\u001B[1;32m    282\u001B[0m \u001B[38;5;28;01melif\u001B[39;00m is_object_dtype(lvalues\u001B[38;5;241m.\u001B[39mdtype) \u001B[38;5;129;01mor\u001B[39;00m \u001B[38;5;28misinstance\u001B[39m(rvalues, \u001B[38;5;28mstr\u001B[39m):\n\u001B[0;32m--> 283\u001B[0m     res_values \u001B[38;5;241m=\u001B[39m \u001B[43mcomp_method_OBJECT_ARRAY\u001B[49m\u001B[43m(\u001B[49m\u001B[43mop\u001B[49m\u001B[43m,\u001B[49m\u001B[43m \u001B[49m\u001B[43mlvalues\u001B[49m\u001B[43m,\u001B[49m\u001B[43m \u001B[49m\u001B[43mrvalues\u001B[49m\u001B[43m)\u001B[49m\n\u001B[1;32m    285\u001B[0m \u001B[38;5;28;01melse\u001B[39;00m:\n\u001B[1;32m    286\u001B[0m     res_values \u001B[38;5;241m=\u001B[39m _na_arithmetic_op(lvalues, rvalues, op, is_cmp\u001B[38;5;241m=\u001B[39m\u001B[38;5;28;01mTrue\u001B[39;00m)\n",
      "File \u001B[0;32m~/miniconda3/envs/outerSpacem/lib/python3.8/site-packages/pandas/core/ops/array_ops.py:73\u001B[0m, in \u001B[0;36mcomp_method_OBJECT_ARRAY\u001B[0;34m(op, x, y)\u001B[0m\n\u001B[1;32m     71\u001B[0m     result \u001B[38;5;241m=\u001B[39m libops\u001B[38;5;241m.\u001B[39mvec_compare(x\u001B[38;5;241m.\u001B[39mravel(), y\u001B[38;5;241m.\u001B[39mravel(), op)\n\u001B[1;32m     72\u001B[0m \u001B[38;5;28;01melse\u001B[39;00m:\n\u001B[0;32m---> 73\u001B[0m     result \u001B[38;5;241m=\u001B[39m \u001B[43mlibops\u001B[49m\u001B[38;5;241;43m.\u001B[39;49m\u001B[43mscalar_compare\u001B[49m\u001B[43m(\u001B[49m\u001B[43mx\u001B[49m\u001B[38;5;241;43m.\u001B[39;49m\u001B[43mravel\u001B[49m\u001B[43m(\u001B[49m\u001B[43m)\u001B[49m\u001B[43m,\u001B[49m\u001B[43m \u001B[49m\u001B[43my\u001B[49m\u001B[43m,\u001B[49m\u001B[43m \u001B[49m\u001B[43mop\u001B[49m\u001B[43m)\u001B[49m\n\u001B[1;32m     74\u001B[0m \u001B[38;5;28;01mreturn\u001B[39;00m result\u001B[38;5;241m.\u001B[39mreshape(x\u001B[38;5;241m.\u001B[39mshape)\n",
      "\u001B[0;31mKeyboardInterrupt\u001B[0m: "
     ]
    }
   ],
   "source": [
    "molecule_databases = [MS_databases[key] for key in MS_databases]\n",
    "\n"
   ],
   "metadata": {
    "collapsed": false,
    "pycharm": {
     "name": "#%%\n"
    }
   }
  },
  {
   "cell_type": "code",
   "execution_count": 53,
   "outputs": [],
   "source": [
    "new_df_data = {'annotation_id': [],\n",
    "          'mol_index': [],\n",
    "          'num_mols': [],\n",
    "          'mol_id': []}\n",
    "\n",
    "# Unroll lists in the adata.var dataframe:\n",
    "for _, row in var_df.iterrows():\n",
    "    ids = eval(row.moleculeIds)\n",
    "    new_df_data[\"mol_id\"] += ids\n",
    "    new_df_data[\"mol_index\"] += range(len(ids))\n",
    "    new_df_data[\"annotation_id\"] += [row.annotation_id for _ in range(len(ids))]\n",
    "    new_df_data[\"num_mols\"] += [len(ids) for _ in range(len(ids))]\n",
    "    # idx_range = range(len(ids))\n"
   ],
   "metadata": {
    "collapsed": false,
    "pycharm": {
     "name": "#%%\n"
    }
   }
  },
  {
   "cell_type": "code",
   "execution_count": 54,
   "outputs": [],
   "source": [
    "# Now merge with METASPACE molecule databases:\n",
    "new_df = pd.DataFrame(new_df_data)\n",
    "combined_molecules_db = pd.concat(molecule_databases)"
   ],
   "metadata": {
    "collapsed": false,
    "pycharm": {
     "name": "#%%\n"
    }
   }
  },
  {
   "cell_type": "code",
   "execution_count": 58,
   "outputs": [
    {
     "data": {
      "text/plain": "        Unnamed: 0             id                      name        formula  \\\n0           1846.0    HMDB0003361                Pyrimidine         C4H4N2   \n1            161.0    HMDB0000240                   Sulfite          H2O3S   \n2          74263.0    HMDB0094691                Furanone A         C4H4O2   \n3            917.0    HMDB0001184    Methyl propenyl ketone          C5H8O   \n4           7695.0    HMDB0012157        3-Methyl-2-butenal          C5H8O   \n...            ...            ...                       ...            ...   \n320532         NaN  SLM:000509151  M(IP)2C(t20:0/22:1(13Z))  C60H115NO25P2   \n320533         NaN  SLM:000509152  M(IP)2C(t20:0/24:1(15Z))  C62H119NO25P2   \n320534         NaN  SLM:000509153  M(IP)2C(t20:0/26:1(17Z))  C64H123NO25P2   \n320535         NaN  SLM:000509154  M(IP)2C(t20:0/14:0(2OH))  C52H101NO26P2   \n320536         NaN  SLM:000509161  M(IP)2C(t20:0/28:0(2OH))  C66H129NO26P2   \n\n                                                    inchi  \n0                    InChI=1S/C4H4N2/c1-2-5-4-6-3-1/h1-4H  \n1                     InChI=1S/H2O3S/c1-4(2)3/h(H2,1,2,3)  \n2                InChI=1S/C4H4O2/c5-4-2-1-3-6-4/h1,3H,2H2  \n3           InChI=1S/C5H8O/c1-3-4-5(2)6/h3-4H,1-2H3/b4-3+  \n4                 InChI=1S/C5H8O/c1-5(2)3-4-6/h3-4H,1-2H3  \n...                                                   ...  \n320532  InChI=1S/C60H115NO25P2/c1-3-5-7-9-11-13-15-17-...  \n320533  InChI=1S/C62H119NO25P2/c1-3-5-7-9-11-13-15-17-...  \n320534  InChI=1S/C64H123NO25P2/c1-3-5-7-9-11-13-15-17-...  \n320535  InChI=1S/C52H101NO26P2/c1-3-5-7-9-11-13-15-16-...  \n320536  InChI=1S/C66H129NO26P2/c1-3-5-7-9-11-13-15-17-...  \n\n[331977 rows x 5 columns]",
      "text/html": "<div>\n<style scoped>\n    .dataframe tbody tr th:only-of-type {\n        vertical-align: middle;\n    }\n\n    .dataframe tbody tr th {\n        vertical-align: top;\n    }\n\n    .dataframe thead th {\n        text-align: right;\n    }\n</style>\n<table border=\"1\" class=\"dataframe\">\n  <thead>\n    <tr style=\"text-align: right;\">\n      <th></th>\n      <th>Unnamed: 0</th>\n      <th>id</th>\n      <th>name</th>\n      <th>formula</th>\n      <th>inchi</th>\n    </tr>\n  </thead>\n  <tbody>\n    <tr>\n      <th>0</th>\n      <td>1846.0</td>\n      <td>HMDB0003361</td>\n      <td>Pyrimidine</td>\n      <td>C4H4N2</td>\n      <td>InChI=1S/C4H4N2/c1-2-5-4-6-3-1/h1-4H</td>\n    </tr>\n    <tr>\n      <th>1</th>\n      <td>161.0</td>\n      <td>HMDB0000240</td>\n      <td>Sulfite</td>\n      <td>H2O3S</td>\n      <td>InChI=1S/H2O3S/c1-4(2)3/h(H2,1,2,3)</td>\n    </tr>\n    <tr>\n      <th>2</th>\n      <td>74263.0</td>\n      <td>HMDB0094691</td>\n      <td>Furanone A</td>\n      <td>C4H4O2</td>\n      <td>InChI=1S/C4H4O2/c5-4-2-1-3-6-4/h1,3H,2H2</td>\n    </tr>\n    <tr>\n      <th>3</th>\n      <td>917.0</td>\n      <td>HMDB0001184</td>\n      <td>Methyl propenyl ketone</td>\n      <td>C5H8O</td>\n      <td>InChI=1S/C5H8O/c1-3-4-5(2)6/h3-4H,1-2H3/b4-3+</td>\n    </tr>\n    <tr>\n      <th>4</th>\n      <td>7695.0</td>\n      <td>HMDB0012157</td>\n      <td>3-Methyl-2-butenal</td>\n      <td>C5H8O</td>\n      <td>InChI=1S/C5H8O/c1-5(2)3-4-6/h3-4H,1-2H3</td>\n    </tr>\n    <tr>\n      <th>...</th>\n      <td>...</td>\n      <td>...</td>\n      <td>...</td>\n      <td>...</td>\n      <td>...</td>\n    </tr>\n    <tr>\n      <th>320532</th>\n      <td>NaN</td>\n      <td>SLM:000509151</td>\n      <td>M(IP)2C(t20:0/22:1(13Z))</td>\n      <td>C60H115NO25P2</td>\n      <td>InChI=1S/C60H115NO25P2/c1-3-5-7-9-11-13-15-17-...</td>\n    </tr>\n    <tr>\n      <th>320533</th>\n      <td>NaN</td>\n      <td>SLM:000509152</td>\n      <td>M(IP)2C(t20:0/24:1(15Z))</td>\n      <td>C62H119NO25P2</td>\n      <td>InChI=1S/C62H119NO25P2/c1-3-5-7-9-11-13-15-17-...</td>\n    </tr>\n    <tr>\n      <th>320534</th>\n      <td>NaN</td>\n      <td>SLM:000509153</td>\n      <td>M(IP)2C(t20:0/26:1(17Z))</td>\n      <td>C64H123NO25P2</td>\n      <td>InChI=1S/C64H123NO25P2/c1-3-5-7-9-11-13-15-17-...</td>\n    </tr>\n    <tr>\n      <th>320535</th>\n      <td>NaN</td>\n      <td>SLM:000509154</td>\n      <td>M(IP)2C(t20:0/14:0(2OH))</td>\n      <td>C52H101NO26P2</td>\n      <td>InChI=1S/C52H101NO26P2/c1-3-5-7-9-11-13-15-16-...</td>\n    </tr>\n    <tr>\n      <th>320536</th>\n      <td>NaN</td>\n      <td>SLM:000509161</td>\n      <td>M(IP)2C(t20:0/28:0(2OH))</td>\n      <td>C66H129NO26P2</td>\n      <td>InChI=1S/C66H129NO26P2/c1-3-5-7-9-11-13-15-17-...</td>\n    </tr>\n  </tbody>\n</table>\n<p>331977 rows × 5 columns</p>\n</div>"
     },
     "execution_count": 58,
     "metadata": {},
     "output_type": "execute_result"
    }
   ],
   "source": [
    "combined_molecules_db.columns\n",
    "# new_df"
   ],
   "metadata": {
    "collapsed": false,
    "pycharm": {
     "name": "#%%\n"
    }
   }
  },
  {
   "cell_type": "code",
   "execution_count": 60,
   "outputs": [],
   "source": [
    "merged_df = pd.merge(new_df, combined_molecules_db, how=\"left\", left_on=\"mol_id\", right_on=\"id\")"
   ],
   "metadata": {
    "collapsed": false,
    "pycharm": {
     "name": "#%%\n"
    }
   }
  },
  {
   "cell_type": "code",
   "execution_count": 69,
   "outputs": [
    {
     "data": {
      "text/plain": "      annotation_id  mol_index  num_mols         mol_id  Unnamed: 0  \\\n0        C4H9O7P+Na          0         1    HMDB0001321      1015.0   \n1       C5H12O7P2+H          0         4    HMDB0001120       871.0   \n2       C5H12O7P2+H          1         4    HMDB0001347      1035.0   \n3       C5H12O7P2+H          2         4  SLM:000000303         NaN   \n4       C5H12O7P2+H          3         4  SLM:000000304         NaN   \n...             ...        ...       ...            ...         ...   \n14082    C61H98O5+K         24        29  SLM:000192296         NaN   \n14083    C61H98O5+K         25        29  SLM:000192297         NaN   \n14084    C61H98O5+K         26        29  SLM:000192298         NaN   \n14085    C61H98O5+K         27        29  SLM:000192299         NaN   \n14086    C61H98O5+K         28        29  SLM:000192300         NaN   \n\n                  id                                               name  \\\n0        HMDB0001321                            D-Erythrose 4-phosphate   \n1        HMDB0001120                         Dimethylallylpyrophosphate   \n2        HMDB0001347                          Isopentenyl pyrophosphate   \n3      SLM:000000303                            isopentenyl diphosphate   \n4      SLM:000000304                          dimethylallyl diphosphate   \n...              ...                                                ...   \n14082  SLM:000192296  TG(O-18:2(9Z,12Z)/22:6(4Z,7Z,10Z,13Z,16Z,19Z)/...   \n14083  SLM:000192297  TG(O-18:2(9Z,12Z)/22:6(4Z,7Z,10Z,13Z,16Z,19Z)/...   \n14084  SLM:000192298  TG(O-18:2(9Z,12Z)/18:3(6Z,9Z,12Z)/22:6(4Z,7Z,1...   \n14085  SLM:000192299  TG(O-18:2(9Z,12Z)/20:4(5Z,8Z,11Z,14Z)/20:5(5Z,...   \n14086  SLM:000192300  TG(O-18:2(9Z,12Z)/22:5(4Z,7Z,10Z,13Z,16Z)/18:4...   \n\n         formula                                              inchi  \n0        C4H9O7P  InChI=1S/C4H9O7P/c5-1-3(6)4(7)2-11-12(8,9)10/h...  \n1      C5H12O7P2  InChI=1S/C5H12O7P2/c1-5(2)3-4-11-14(9,10)12-13...  \n2      C5H12O7P2  InChI=1S/C5H12O7P2/c1-5(2)3-4-11-14(9,10)12-13...  \n3      C5H12O7P2  InChI=1S/C5H12O7P2/c1-5(2)3-4-11-14(9,10)12-13...  \n4      C5H12O7P2  InChI=1S/C5H12O7P2/c1-5(2)3-4-11-14(9,10)12-13...  \n...          ...                                                ...  \n14082   C61H98O5  InChI=1S/C61H98O5/c1-4-7-10-13-16-19-22-25-28-...  \n14083   C61H98O5  InChI=1S/C61H98O5/c1-4-7-10-13-16-19-22-25-28-...  \n14084   C61H98O5  InChI=1S/C61H98O5/c1-4-7-10-13-16-19-22-25-28-...  \n14085   C61H98O5  InChI=1S/C61H98O5/c1-4-7-10-13-16-19-22-25-28-...  \n14086   C61H98O5  InChI=1S/C61H98O5/c1-4-7-10-13-16-19-22-25-28-...  \n\n[14087 rows x 9 columns]",
      "text/html": "<div>\n<style scoped>\n    .dataframe tbody tr th:only-of-type {\n        vertical-align: middle;\n    }\n\n    .dataframe tbody tr th {\n        vertical-align: top;\n    }\n\n    .dataframe thead th {\n        text-align: right;\n    }\n</style>\n<table border=\"1\" class=\"dataframe\">\n  <thead>\n    <tr style=\"text-align: right;\">\n      <th></th>\n      <th>annotation_id</th>\n      <th>mol_index</th>\n      <th>num_mols</th>\n      <th>mol_id</th>\n      <th>Unnamed: 0</th>\n      <th>id</th>\n      <th>name</th>\n      <th>formula</th>\n      <th>inchi</th>\n    </tr>\n  </thead>\n  <tbody>\n    <tr>\n      <th>0</th>\n      <td>C4H9O7P+Na</td>\n      <td>0</td>\n      <td>1</td>\n      <td>HMDB0001321</td>\n      <td>1015.0</td>\n      <td>HMDB0001321</td>\n      <td>D-Erythrose 4-phosphate</td>\n      <td>C4H9O7P</td>\n      <td>InChI=1S/C4H9O7P/c5-1-3(6)4(7)2-11-12(8,9)10/h...</td>\n    </tr>\n    <tr>\n      <th>1</th>\n      <td>C5H12O7P2+H</td>\n      <td>0</td>\n      <td>4</td>\n      <td>HMDB0001120</td>\n      <td>871.0</td>\n      <td>HMDB0001120</td>\n      <td>Dimethylallylpyrophosphate</td>\n      <td>C5H12O7P2</td>\n      <td>InChI=1S/C5H12O7P2/c1-5(2)3-4-11-14(9,10)12-13...</td>\n    </tr>\n    <tr>\n      <th>2</th>\n      <td>C5H12O7P2+H</td>\n      <td>1</td>\n      <td>4</td>\n      <td>HMDB0001347</td>\n      <td>1035.0</td>\n      <td>HMDB0001347</td>\n      <td>Isopentenyl pyrophosphate</td>\n      <td>C5H12O7P2</td>\n      <td>InChI=1S/C5H12O7P2/c1-5(2)3-4-11-14(9,10)12-13...</td>\n    </tr>\n    <tr>\n      <th>3</th>\n      <td>C5H12O7P2+H</td>\n      <td>2</td>\n      <td>4</td>\n      <td>SLM:000000303</td>\n      <td>NaN</td>\n      <td>SLM:000000303</td>\n      <td>isopentenyl diphosphate</td>\n      <td>C5H12O7P2</td>\n      <td>InChI=1S/C5H12O7P2/c1-5(2)3-4-11-14(9,10)12-13...</td>\n    </tr>\n    <tr>\n      <th>4</th>\n      <td>C5H12O7P2+H</td>\n      <td>3</td>\n      <td>4</td>\n      <td>SLM:000000304</td>\n      <td>NaN</td>\n      <td>SLM:000000304</td>\n      <td>dimethylallyl diphosphate</td>\n      <td>C5H12O7P2</td>\n      <td>InChI=1S/C5H12O7P2/c1-5(2)3-4-11-14(9,10)12-13...</td>\n    </tr>\n    <tr>\n      <th>...</th>\n      <td>...</td>\n      <td>...</td>\n      <td>...</td>\n      <td>...</td>\n      <td>...</td>\n      <td>...</td>\n      <td>...</td>\n      <td>...</td>\n      <td>...</td>\n    </tr>\n    <tr>\n      <th>14082</th>\n      <td>C61H98O5+K</td>\n      <td>24</td>\n      <td>29</td>\n      <td>SLM:000192296</td>\n      <td>NaN</td>\n      <td>SLM:000192296</td>\n      <td>TG(O-18:2(9Z,12Z)/22:6(4Z,7Z,10Z,13Z,16Z,19Z)/...</td>\n      <td>C61H98O5</td>\n      <td>InChI=1S/C61H98O5/c1-4-7-10-13-16-19-22-25-28-...</td>\n    </tr>\n    <tr>\n      <th>14083</th>\n      <td>C61H98O5+K</td>\n      <td>25</td>\n      <td>29</td>\n      <td>SLM:000192297</td>\n      <td>NaN</td>\n      <td>SLM:000192297</td>\n      <td>TG(O-18:2(9Z,12Z)/22:6(4Z,7Z,10Z,13Z,16Z,19Z)/...</td>\n      <td>C61H98O5</td>\n      <td>InChI=1S/C61H98O5/c1-4-7-10-13-16-19-22-25-28-...</td>\n    </tr>\n    <tr>\n      <th>14084</th>\n      <td>C61H98O5+K</td>\n      <td>26</td>\n      <td>29</td>\n      <td>SLM:000192298</td>\n      <td>NaN</td>\n      <td>SLM:000192298</td>\n      <td>TG(O-18:2(9Z,12Z)/18:3(6Z,9Z,12Z)/22:6(4Z,7Z,1...</td>\n      <td>C61H98O5</td>\n      <td>InChI=1S/C61H98O5/c1-4-7-10-13-16-19-22-25-28-...</td>\n    </tr>\n    <tr>\n      <th>14085</th>\n      <td>C61H98O5+K</td>\n      <td>27</td>\n      <td>29</td>\n      <td>SLM:000192299</td>\n      <td>NaN</td>\n      <td>SLM:000192299</td>\n      <td>TG(O-18:2(9Z,12Z)/20:4(5Z,8Z,11Z,14Z)/20:5(5Z,...</td>\n      <td>C61H98O5</td>\n      <td>InChI=1S/C61H98O5/c1-4-7-10-13-16-19-22-25-28-...</td>\n    </tr>\n    <tr>\n      <th>14086</th>\n      <td>C61H98O5+K</td>\n      <td>28</td>\n      <td>29</td>\n      <td>SLM:000192300</td>\n      <td>NaN</td>\n      <td>SLM:000192300</td>\n      <td>TG(O-18:2(9Z,12Z)/22:5(4Z,7Z,10Z,13Z,16Z)/18:4...</td>\n      <td>C61H98O5</td>\n      <td>InChI=1S/C61H98O5/c1-4-7-10-13-16-19-22-25-28-...</td>\n    </tr>\n  </tbody>\n</table>\n<p>14087 rows × 9 columns</p>\n</div>"
     },
     "execution_count": 69,
     "metadata": {},
     "output_type": "execute_result"
    }
   ],
   "source": [
    "merged_df"
   ],
   "metadata": {
    "collapsed": false,
    "pycharm": {
     "name": "#%%\n"
    }
   }
  },
  {
   "cell_type": "code",
   "execution_count": 67,
   "outputs": [],
   "source": [],
   "metadata": {
    "collapsed": false,
    "pycharm": {
     "name": "#%%\n"
    }
   }
  },
  {
   "cell_type": "code",
   "execution_count": 89,
   "outputs": [],
   "source": [
    "inchi_lists = [None for _ in range(len(var_df))]\n",
    "for _, row in merged_df.iterrows():\n",
    "    idx = var_df.index.get_loc(row.annotation_id)\n",
    "    inchi = inchi_lists[idx]\n",
    "    if inchi is None:\n",
    "        inchi = [None for _ in range(row.num_mols)]\n",
    "    inchi[row.mol_index] = str(row.inchi)\n",
    "    inchi_lists[idx] = inchi\n",
    "    # var_df.loc[row.annotation_id, \"inchi\"] = inchi\n",
    "    # var_df[\"inchi\"][row.annotation_id] = inchi\n",
    "    # break\n",
    "\n",
    "# Finally, get data in the original format:\n",
    "# df['x']['C'] = 10\n",
    "\n"
   ],
   "metadata": {
    "collapsed": false,
    "pycharm": {
     "name": "#%%\n"
    }
   }
  },
  {
   "cell_type": "code",
   "execution_count": 90,
   "outputs": [],
   "source": [
    "var_df[\"inchi\"] = inchi_lists"
   ],
   "metadata": {
    "collapsed": false,
    "pycharm": {
     "name": "#%%\n"
    }
   }
  },
  {
   "cell_type": "code",
   "execution_count": 91,
   "outputs": [
    {
     "data": {
      "text/plain": "               annotation_id     formula adduct    ionFormula             ion  \\\nC4H9O7P+Na        C4H9O7P+Na     C4H9O7P    +Na     C4H9O7PNa     C4H9O7P+Na+   \nC5H12O7P2+H      C5H12O7P2+H   C5H12O7P2     +H     C5H13O7P2    C5H12O7P2+H+   \nC5H14NO4P+Na    C5H14NO4P+Na   C5H14NO4P    +Na   C5H14NO4PNa   C5H14NO4P+Na+   \nC6H13O7P+H        C6H13O7P+H    C6H13O7P     +H      C6H14O7P     C6H13O7P+H+   \nC7H13O8P+H        C7H13O8P+H    C7H13O8P     +H      C7H14O8P     C7H13O8P+H+   \n...                      ...         ...    ...           ...             ...   \nC56H99O7P+Na    C56H99O7P+Na   C56H99O7P    +Na   C56H99O7PNa   C56H99O7P+Na+   \nC57H97O7P+Na    C57H97O7P+Na   C57H97O7P    +Na   C57H97O7PNa   C57H97O7P+Na+   \nC57H99O7P+Na    C57H99O7P+Na   C57H99O7P    +Na   C57H99O7PNa   C57H99O7P+Na+   \nC57H101O7P+Na  C57H101O7P+Na  C57H101O7P    +Na  C57H101O7PNa  C57H101O7P+Na+   \nC61H98O5+K        C61H98O5+K    C61H98O5     +K     C61H98O5K     C61H98O5+K+   \n\n                       mz       msm   fdr  \\\nC4H9O7P+Na     222.997771  0.034286  0.50   \nC5H12O7P2+H    247.013063  0.448323  0.05   \nC5H14NO4P+Na   206.055226  0.448761  0.10   \nC6H13O7P+H     229.047126  0.001899  0.50   \nC7H13O8P+H     257.042041  0.057573  0.20   \n...                   ...       ...   ...   \nC56H99O7P+Na   937.702024  0.004616  0.50   \nC57H97O7P+Na   947.686374  0.011840  0.50   \nC57H99O7P+Na   949.702024  0.181857  0.20   \nC57H101O7P+Na  951.717674  0.091886  0.20   \nC61H98O5+K     949.704545  0.093179  0.50   \n\n                                                       databases  \\\nC4H9O7P+Na                            [[\"CoreMetabolome\", \"v3\"]]   \nC5H12O7P2+H    [[\"CoreMetabolome\", \"v3\"], [\"SwissLipids\", \"20...   \nC5H14NO4P+Na                          [[\"CoreMetabolome\", \"v3\"]]   \nC6H13O7P+H     [[\"CoreMetabolome\", \"v3\"], [\"SwissLipids\", \"20...   \nC7H13O8P+H                       [[\"SwissLipids\", \"2018-02-02\"]]   \n...                                                          ...   \nC56H99O7P+Na                     [[\"SwissLipids\", \"2018-02-02\"]]   \nC57H97O7P+Na                     [[\"SwissLipids\", \"2018-02-02\"]]   \nC57H99O7P+Na                     [[\"SwissLipids\", \"2018-02-02\"]]   \nC57H101O7P+Na                    [[\"SwissLipids\", \"2018-02-02\"]]   \nC61H98O5+K                       [[\"SwissLipids\", \"2018-02-02\"]]   \n\n                                                   moleculeNames  \\\nC4H9O7P+Na                           [\"D-Erythrose 4-phosphate\"]   \nC5H12O7P2+H    [\"Dimethylallylpyrophosphate\", \"Isopentenyl py...   \nC5H14NO4P+Na                               [\"Phosphorylcholine\"]   \nC6H13O7P+H     [\"(R)-5-phosphomevalonate\", \"Mevalonic acid-5P...   \nC7H13O8P+H                                       [\"PA(2:0/2:0)\"]   \n...                                                          ...   \nC56H99O7P+Na        [\"PA(P-17:0/36:6(18Z,21Z,24Z,27Z,30Z,33Z))\"]   \nC57H97O7P+Na   [\"PA(P-18:2(9Z,12Z)/36:6(18Z,21Z,24Z,27Z,30Z,3...   \nC57H99O7P+Na   [\"PA(O-18:2(9Z,12Z)/36:6(18Z,21Z,24Z,27Z,30Z,3...   \nC57H101O7P+Na  [\"PA(O-18:1(11Z)/36:6(18Z,21Z,24Z,27Z,30Z,33Z)...   \nC61H98O5+K     [\"TG(O-14:0/20:5(5Z,8Z,11Z,14Z,17Z)/24:6(6Z,9Z...   \n\n                                                     moleculeIds  \\\nC4H9O7P+Na                                       [\"HMDB0001321\"]   \nC5H12O7P2+H    [\"HMDB0001120\", \"HMDB0001347\", \"SLM:000000303\"...   \nC5H14NO4P+Na                                     [\"HMDB0001565\"]   \nC6H13O7P+H     [\"HMDB0001343\", \"SLM:000000301\", \"SLM:00002067...   \nC7H13O8P+H                                     [\"SLM:000025480\"]   \n...                                                          ...   \nC56H99O7P+Na                                   [\"SLM:000046954\"]   \nC57H97O7P+Na                                   [\"SLM:000047034\"]   \nC57H99O7P+Na   [\"SLM:000045474\", \"SLM:000046550\", \"SLM:000046...   \nC57H101O7P+Na  [\"SLM:000044990\", \"SLM:000045074\", \"SLM:000045...   \nC61H98O5+K     [\"SLM:000192272\", \"SLM:000192273\", \"SLM:000192...   \n\n                                                           inchi  \nC4H9O7P+Na     [InChI=1S/C4H9O7P/c5-1-3(6)4(7)2-11-12(8,9)10/...  \nC5H12O7P2+H    [InChI=1S/C5H12O7P2/c1-5(2)3-4-11-14(9,10)12-1...  \nC5H14NO4P+Na   [InChI=1S/C5H14NO4P/c1-6(2,3)4-5-10-11(7,8)9/h...  \nC6H13O7P+H     [InChI=1S/C6H13O7P/c1-6(9,4-5(7)8)2-3-13-14(10...  \nC7H13O8P+H     [InChI=1S/C7H13O8P/c1-5(8)13-3-7(15-6(2)9)4-14...  \n...                                                          ...  \nC56H99O7P+Na   [InChI=1S/C56H99O7P/c1-4-5-6-7-8-9-10-11-12-13...  \nC57H97O7P+Na   [InChI=1S/C57H97O7P/c1-3-5-7-9-11-13-15-17-19-...  \nC57H99O7P+Na   [InChI=1S/C57H99O7P/c1-3-5-7-9-11-13-15-17-19-...  \nC57H101O7P+Na  [InChI=1S/C57H101O7P/c1-3-5-7-9-11-13-15-17-19...  \nC61H98O5+K     [InChI=1S/C61H98O5/c1-4-7-10-13-16-19-22-25-28...  \n\n[866 rows x 12 columns]",
      "text/html": "<div>\n<style scoped>\n    .dataframe tbody tr th:only-of-type {\n        vertical-align: middle;\n    }\n\n    .dataframe tbody tr th {\n        vertical-align: top;\n    }\n\n    .dataframe thead th {\n        text-align: right;\n    }\n</style>\n<table border=\"1\" class=\"dataframe\">\n  <thead>\n    <tr style=\"text-align: right;\">\n      <th></th>\n      <th>annotation_id</th>\n      <th>formula</th>\n      <th>adduct</th>\n      <th>ionFormula</th>\n      <th>ion</th>\n      <th>mz</th>\n      <th>msm</th>\n      <th>fdr</th>\n      <th>databases</th>\n      <th>moleculeNames</th>\n      <th>moleculeIds</th>\n      <th>inchi</th>\n    </tr>\n  </thead>\n  <tbody>\n    <tr>\n      <th>C4H9O7P+Na</th>\n      <td>C4H9O7P+Na</td>\n      <td>C4H9O7P</td>\n      <td>+Na</td>\n      <td>C4H9O7PNa</td>\n      <td>C4H9O7P+Na+</td>\n      <td>222.997771</td>\n      <td>0.034286</td>\n      <td>0.50</td>\n      <td>[[\"CoreMetabolome\", \"v3\"]]</td>\n      <td>[\"D-Erythrose 4-phosphate\"]</td>\n      <td>[\"HMDB0001321\"]</td>\n      <td>[InChI=1S/C4H9O7P/c5-1-3(6)4(7)2-11-12(8,9)10/...</td>\n    </tr>\n    <tr>\n      <th>C5H12O7P2+H</th>\n      <td>C5H12O7P2+H</td>\n      <td>C5H12O7P2</td>\n      <td>+H</td>\n      <td>C5H13O7P2</td>\n      <td>C5H12O7P2+H+</td>\n      <td>247.013063</td>\n      <td>0.448323</td>\n      <td>0.05</td>\n      <td>[[\"CoreMetabolome\", \"v3\"], [\"SwissLipids\", \"20...</td>\n      <td>[\"Dimethylallylpyrophosphate\", \"Isopentenyl py...</td>\n      <td>[\"HMDB0001120\", \"HMDB0001347\", \"SLM:000000303\"...</td>\n      <td>[InChI=1S/C5H12O7P2/c1-5(2)3-4-11-14(9,10)12-1...</td>\n    </tr>\n    <tr>\n      <th>C5H14NO4P+Na</th>\n      <td>C5H14NO4P+Na</td>\n      <td>C5H14NO4P</td>\n      <td>+Na</td>\n      <td>C5H14NO4PNa</td>\n      <td>C5H14NO4P+Na+</td>\n      <td>206.055226</td>\n      <td>0.448761</td>\n      <td>0.10</td>\n      <td>[[\"CoreMetabolome\", \"v3\"]]</td>\n      <td>[\"Phosphorylcholine\"]</td>\n      <td>[\"HMDB0001565\"]</td>\n      <td>[InChI=1S/C5H14NO4P/c1-6(2,3)4-5-10-11(7,8)9/h...</td>\n    </tr>\n    <tr>\n      <th>C6H13O7P+H</th>\n      <td>C6H13O7P+H</td>\n      <td>C6H13O7P</td>\n      <td>+H</td>\n      <td>C6H14O7P</td>\n      <td>C6H13O7P+H+</td>\n      <td>229.047126</td>\n      <td>0.001899</td>\n      <td>0.50</td>\n      <td>[[\"CoreMetabolome\", \"v3\"], [\"SwissLipids\", \"20...</td>\n      <td>[\"(R)-5-phosphomevalonate\", \"Mevalonic acid-5P...</td>\n      <td>[\"HMDB0001343\", \"SLM:000000301\", \"SLM:00002067...</td>\n      <td>[InChI=1S/C6H13O7P/c1-6(9,4-5(7)8)2-3-13-14(10...</td>\n    </tr>\n    <tr>\n      <th>C7H13O8P+H</th>\n      <td>C7H13O8P+H</td>\n      <td>C7H13O8P</td>\n      <td>+H</td>\n      <td>C7H14O8P</td>\n      <td>C7H13O8P+H+</td>\n      <td>257.042041</td>\n      <td>0.057573</td>\n      <td>0.20</td>\n      <td>[[\"SwissLipids\", \"2018-02-02\"]]</td>\n      <td>[\"PA(2:0/2:0)\"]</td>\n      <td>[\"SLM:000025480\"]</td>\n      <td>[InChI=1S/C7H13O8P/c1-5(8)13-3-7(15-6(2)9)4-14...</td>\n    </tr>\n    <tr>\n      <th>...</th>\n      <td>...</td>\n      <td>...</td>\n      <td>...</td>\n      <td>...</td>\n      <td>...</td>\n      <td>...</td>\n      <td>...</td>\n      <td>...</td>\n      <td>...</td>\n      <td>...</td>\n      <td>...</td>\n      <td>...</td>\n    </tr>\n    <tr>\n      <th>C56H99O7P+Na</th>\n      <td>C56H99O7P+Na</td>\n      <td>C56H99O7P</td>\n      <td>+Na</td>\n      <td>C56H99O7PNa</td>\n      <td>C56H99O7P+Na+</td>\n      <td>937.702024</td>\n      <td>0.004616</td>\n      <td>0.50</td>\n      <td>[[\"SwissLipids\", \"2018-02-02\"]]</td>\n      <td>[\"PA(P-17:0/36:6(18Z,21Z,24Z,27Z,30Z,33Z))\"]</td>\n      <td>[\"SLM:000046954\"]</td>\n      <td>[InChI=1S/C56H99O7P/c1-4-5-6-7-8-9-10-11-12-13...</td>\n    </tr>\n    <tr>\n      <th>C57H97O7P+Na</th>\n      <td>C57H97O7P+Na</td>\n      <td>C57H97O7P</td>\n      <td>+Na</td>\n      <td>C57H97O7PNa</td>\n      <td>C57H97O7P+Na+</td>\n      <td>947.686374</td>\n      <td>0.011840</td>\n      <td>0.50</td>\n      <td>[[\"SwissLipids\", \"2018-02-02\"]]</td>\n      <td>[\"PA(P-18:2(9Z,12Z)/36:6(18Z,21Z,24Z,27Z,30Z,3...</td>\n      <td>[\"SLM:000047034\"]</td>\n      <td>[InChI=1S/C57H97O7P/c1-3-5-7-9-11-13-15-17-19-...</td>\n    </tr>\n    <tr>\n      <th>C57H99O7P+Na</th>\n      <td>C57H99O7P+Na</td>\n      <td>C57H99O7P</td>\n      <td>+Na</td>\n      <td>C57H99O7PNa</td>\n      <td>C57H99O7P+Na+</td>\n      <td>949.702024</td>\n      <td>0.181857</td>\n      <td>0.20</td>\n      <td>[[\"SwissLipids\", \"2018-02-02\"]]</td>\n      <td>[\"PA(O-18:2(9Z,12Z)/36:6(18Z,21Z,24Z,27Z,30Z,3...</td>\n      <td>[\"SLM:000045474\", \"SLM:000046550\", \"SLM:000046...</td>\n      <td>[InChI=1S/C57H99O7P/c1-3-5-7-9-11-13-15-17-19-...</td>\n    </tr>\n    <tr>\n      <th>C57H101O7P+Na</th>\n      <td>C57H101O7P+Na</td>\n      <td>C57H101O7P</td>\n      <td>+Na</td>\n      <td>C57H101O7PNa</td>\n      <td>C57H101O7P+Na+</td>\n      <td>951.717674</td>\n      <td>0.091886</td>\n      <td>0.20</td>\n      <td>[[\"SwissLipids\", \"2018-02-02\"]]</td>\n      <td>[\"PA(O-18:1(11Z)/36:6(18Z,21Z,24Z,27Z,30Z,33Z)...</td>\n      <td>[\"SLM:000044990\", \"SLM:000045074\", \"SLM:000045...</td>\n      <td>[InChI=1S/C57H101O7P/c1-3-5-7-9-11-13-15-17-19...</td>\n    </tr>\n    <tr>\n      <th>C61H98O5+K</th>\n      <td>C61H98O5+K</td>\n      <td>C61H98O5</td>\n      <td>+K</td>\n      <td>C61H98O5K</td>\n      <td>C61H98O5+K+</td>\n      <td>949.704545</td>\n      <td>0.093179</td>\n      <td>0.50</td>\n      <td>[[\"SwissLipids\", \"2018-02-02\"]]</td>\n      <td>[\"TG(O-14:0/20:5(5Z,8Z,11Z,14Z,17Z)/24:6(6Z,9Z...</td>\n      <td>[\"SLM:000192272\", \"SLM:000192273\", \"SLM:000192...</td>\n      <td>[InChI=1S/C61H98O5/c1-4-7-10-13-16-19-22-25-28...</td>\n    </tr>\n  </tbody>\n</table>\n<p>866 rows × 12 columns</p>\n</div>"
     },
     "execution_count": 91,
     "metadata": {},
     "output_type": "execute_result"
    }
   ],
   "source": [
    "var_df"
   ],
   "metadata": {
    "collapsed": false,
    "pycharm": {
     "name": "#%%\n"
    }
   }
  },
  {
   "cell_type": "code",
   "execution_count": 92,
   "outputs": [],
   "source": [
    "var_df.to_csv(\"/Users/alberto-mac/EMBL_ATeam/projects/gastrosome/Drug_W8/test_export.csv\")"
   ],
   "metadata": {
    "collapsed": false,
    "pycharm": {
     "name": "#%%\n"
    }
   }
  },
  {
   "cell_type": "code",
   "execution_count": null,
   "outputs": [],
   "source": [],
   "metadata": {
    "collapsed": false,
    "pycharm": {
     "name": "#%%\n"
    }
   }
  }
 ],
 "metadata": {
  "kernelspec": {
   "display_name": "Python 3",
   "language": "python",
   "name": "python3"
  },
  "language_info": {
   "codemirror_mode": {
    "name": "ipython",
    "version": 2
   },
   "file_extension": ".py",
   "mimetype": "text/x-python",
   "name": "python",
   "nbconvert_exporter": "python",
   "pygments_lexer": "ipython2",
   "version": "2.7.6"
  }
 },
 "nbformat": 4,
 "nbformat_minor": 0
}