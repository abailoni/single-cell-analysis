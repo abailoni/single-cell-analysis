{
 "cells": [
  {
   "cell_type": "code",
   "execution_count": 1,
   "outputs": [],
   "source": [
    "import os.path\n",
    "\n",
    "import matplotlib.pyplot as plt\n",
    "\n",
    "plt.rcParams['text.usetex'] = True\n",
    "\n",
    "import scanpy as sc\n",
    "import pandas as pd\n",
    "import seaborn as sns\n",
    "# from outer_spacem.io import convert_name\n",
    "\n",
    "import numpy as np\n",
    "from pathlib import Path\n",
    "\n",
    "\n",
    "# from outer_spacem.pl import plot_distributions, plot_umap_top_n, volcano_plot\n",
    "from outer_spacem.pl._diff_expr import plot_distributions\n",
    "# from singlecelltools.various import get_molecules_names\n",
    "\n",
    "SAVE_ADATA = False\n",
    "MAGIC = False\n",
    "\n",
    "well = \"Drug_W8\"\n",
    "export_only_significant = True\n",
    "#\n",
    "# well = \"Feeding_W3\"\n",
    "# export_only_significant = False\n",
    "\n",
    "analysis_name = \"v4_check\"\n",
    "if MAGIC: analysis_name += \"_magic\"\n",
    "\n",
    "main_dir = os.path.join(\"/Users/alberto-mac/EMBL_ATeam/projects/gastrosome\",\n",
    "                       well, \"reprocessing\")\n",
    "\n",
    "# adata = sc.read(os.path.join(main_dir, \"single_cell_analysis/spatiomolecular_adata.h5ad\"))\n",
    "# adata = sc.read(\"/Users/alberto-mac/Documents/DA_ESPORTARE/LOCAL_EMBL_FILES/scratch/projects/gastrosome_processing/SpaceM_processing_new/Drug_W8/analysis/single_cell_analysis/spatiomolecular_adata.h5ad\")\n",
    "\n",
    "# # //////////////////\n",
    "# # New import where I import another well with fixed molecule IDs:\n",
    "# metadata = pd.read_csv(\"/Users/alberto-mac/Documents/DA_ESPORTARE/LOCAL_EMBL_FILES/scratch/projects/gastrosome_processing_full/spacem/spacem_datasets_paths_final.csv\")\n",
    "# # metadata_subset = metadata.loc[metadata.index.isin([10]), :]\n",
    "# # metadata_subset = metadata.loc[metadata.index.isin([3, 10]), :]\n",
    "# metadata_subset = metadata\n",
    "# # metadata_subset = metadata.loc[metadata.index.isin([0, 3]), :]\n",
    "# import warnings\n",
    "# import outer_spacem as osm\n",
    "# pattern = \"/Users/alberto-mac/Documents/DA_ESPORTARE/LOCAL_EMBL_FILES/scratch/projects/gastrosome_processing_full/spacem_synced/slide{slide}/W{well}/analysis/single_cell_analysis/spatiomolecular_adata.h5ad\"\n",
    "#\n",
    "# warnings.simplefilter(\"ignore\")\n",
    "# adata = osm.io.bulk_read(\n",
    "#     metadata_subset,\n",
    "#     file_pattern = pattern\n",
    "# )\n",
    "# # Keep only drug treated cells:\n",
    "# adata = adata[adata.obs.condition == \"Drugs\"]\n",
    "# # mol_ids_col = \"moleculeIds-0\"\n",
    "# # mol_names_col = \"moleculeNames-0\"\n",
    "\n",
    "# //////////////////\n",
    "# Old direct import:\n",
    "adata = sc.read(\"/Users/alberto-mac/Documents/DA_ESPORTARE/LOCAL_EMBL_FILES/scratch/projects/gastrosome_processing_full/spacem_synced/slide6/W8/analysis/single_cell_analysis/spatiomolecular_adata.h5ad\")\n",
    "#\n",
    "# # metadata_subset = metadata.loc[metadata.index.isin([3]), :]\n",
    "# # adata2 = osm.io.bulk_read(\n",
    "# #     metadata_subset,\n",
    "# #     file_pattern = pattern\n",
    "# # )\n",
    "mol_ids_col = \"moleculeIds\"\n",
    "mol_names_col = \"moleculeNames\"\n",
    "\n",
    "# //////////////////\n",
    "\n",
    "\n",
    "# intracell_ions = pd.read_csv(\"/Users/alberto-mac/EMBL_ATeam/projects/gastrosome/molecules_databases/reannotated/AB_Gastrosome_DrugW8_intra_ions_v2.tsv\",\n",
    "                             # sep=\"\\t\", index_col=0)\n",
    "\n",
    "proj_dir = os.path.join(main_dir, \"analysis\", analysis_name)\n",
    "\n",
    "plots_path = os.path.join(proj_dir, \"plots\")\n",
    "\n",
    "os.makedirs(plots_path, exist_ok=True)\n",
    "sc.settings.figdir = plots_path"
   ],
   "metadata": {
    "collapsed": false,
    "pycharm": {
     "name": "#%%\n"
    }
   }
  },
  {
   "cell_type": "code",
   "execution_count": 2,
   "metadata": {
    "collapsed": true
   },
   "outputs": [],
   "source": [
    "# Get INCHI names:\n",
    "from singlecelltools.various import get_inchi\n",
    "MS_databases = [\n",
    "    pd.read_csv(\n",
    "        \"/Users/alberto-mac/EMBL_ATeam/projects/gastrosome/molecules_databases/core_metabolome_v3.csv\",\n",
    "        sep=\"\\t\"),\n",
    "    pd.read_csv(\n",
    "        \"/Users/alberto-mac/EMBL_ATeam/projects/gastrosome/molecules_databases/swisslipids_2018-02-02-v2.tsv\",\n",
    "        sep=\"\\t\")\n",
    "]"
   ]
  },
  {
   "cell_type": "code",
   "execution_count": 3,
   "outputs": [
    {
     "data": {
      "text/plain": "               annotation_id     formula adduct    ionFormula             ion  \\\nC5H12O7P2+H      C5H12O7P2+H   C5H12O7P2     +H     C5H13O7P2    C5H12O7P2+H+   \nC5H12O7P2+K      C5H12O7P2+K   C5H12O7P2     +K    C5H12O7P2K    C5H12O7P2+K+   \nC5H12O7P2+Na    C5H12O7P2+Na   C5H12O7P2    +Na   C5H12O7P2Na   C5H12O7P2+Na+   \nC9H14N4O3+H      C9H14N4O3+H   C9H14N4O3     +H     C9H15N4O3    C9H14N4O3+H+   \nC9H14N4O3+K      C9H14N4O3+K   C9H14N4O3     +K    C9H14N4O3K    C9H14N4O3+K+   \n...                      ...         ...    ...           ...             ...   \nC57H101O7P+K    C57H101O7P+K  C57H101O7P     +K   C57H101O7PK   C57H101O7P+K+   \nC57H101O7P+Na  C57H101O7P+Na  C57H101O7P    +Na  C57H101O7PNa  C57H101O7P+Na+   \nC61H98O5+H        C61H98O5+H    C61H98O5     +H      C61H99O5     C61H98O5+H+   \nC61H98O5+K        C61H98O5+K    C61H98O5     +K     C61H98O5K     C61H98O5+K+   \nC61H98O5+Na      C61H98O5+Na    C61H98O5    +Na    C61H98O5Na    C61H98O5+Na+   \n\n                       mz       msm  fdr  \\\nC5H12O7P2+H    247.013063  0.448323  NaN   \nC5H12O7P2+K    284.968945  0.000000  NaN   \nC5H12O7P2+Na   268.995008  0.000000  NaN   \nC9H14N4O3+H    227.113828  0.000000  NaN   \nC9H14N4O3+K    265.069709  0.000000  NaN   \n...                   ...       ...  ...   \nC57H101O7P+K   967.691611  0.000000  NaN   \nC57H101O7P+Na  951.717674  0.091886  NaN   \nC61H98O5+H     911.748663  0.000000  NaN   \nC61H98O5+K     949.704545  0.093179  NaN   \nC61H98O5+Na    933.730608  0.000000  NaN   \n\n                                                 databases  \\\nC5H12O7P2+H    [[\"Gastrosome_singlecell_intraions\", \"v1\"]]   \nC5H12O7P2+K    [[\"Gastrosome_singlecell_intraions\", \"v1\"]]   \nC5H12O7P2+Na   [[\"Gastrosome_singlecell_intraions\", \"v1\"]]   \nC9H14N4O3+H    [[\"Gastrosome_singlecell_intraions\", \"v1\"]]   \nC9H14N4O3+K    [[\"Gastrosome_singlecell_intraions\", \"v1\"]]   \n...                                                    ...   \nC57H101O7P+K   [[\"Gastrosome_singlecell_intraions\", \"v1\"]]   \nC57H101O7P+Na  [[\"Gastrosome_singlecell_intraions\", \"v1\"]]   \nC61H98O5+H     [[\"Gastrosome_singlecell_intraions\", \"v1\"]]   \nC61H98O5+K     [[\"Gastrosome_singlecell_intraions\", \"v1\"]]   \nC61H98O5+Na    [[\"Gastrosome_singlecell_intraions\", \"v1\"]]   \n\n                                                   moleculeNames  \\\nC5H12O7P2+H    [\"Dimethylallylpyrophosphate\", \"Isopentenyl py...   \nC5H12O7P2+K    [\"Dimethylallylpyrophosphate\", \"Isopentenyl py...   \nC5H12O7P2+Na   [\"Dimethylallylpyrophosphate\", \"Isopentenyl py...   \nC9H14N4O3+H    [\"Alanyl-Histidine\", \"Carnosine\", \"Histidinyl-...   \nC9H14N4O3+K    [\"Alanyl-Histidine\", \"Carnosine\", \"Histidinyl-...   \n...                                                          ...   \nC57H101O7P+K   [\"PA(O-18:1(11Z)/36:6(18Z,21Z,24Z,27Z,30Z,33Z)...   \nC57H101O7P+Na  [\"PA(O-18:1(11Z)/36:6(18Z,21Z,24Z,27Z,30Z,33Z)...   \nC61H98O5+H     [\"TG(O-14:0/20:5(5Z,8Z,11Z,14Z,17Z)/24:6(6Z,9Z...   \nC61H98O5+K     [\"TG(O-14:0/20:5(5Z,8Z,11Z,14Z,17Z)/24:6(6Z,9Z...   \nC61H98O5+Na    [\"TG(O-14:0/20:5(5Z,8Z,11Z,14Z,17Z)/24:6(6Z,9Z...   \n\n                                                     moleculeIds  \nC5H12O7P2+H                     [\"7526\", \"7527\", \"7528\", \"7529\"]  \nC5H12O7P2+K                     [\"7526\", \"7527\", \"7528\", \"7529\"]  \nC5H12O7P2+Na                    [\"7526\", \"7527\", \"7528\", \"7529\"]  \nC9H14N4O3+H                             [\"7559\", \"7560\", \"7561\"]  \nC9H14N4O3+K                             [\"7559\", \"7560\", \"7561\"]  \n...                                                          ...  \nC57H101O7P+K   [\"7493\", \"7494\", \"7495\", \"7496\", \"7497\", \"7498...  \nC57H101O7P+Na  [\"7493\", \"7494\", \"7495\", \"7496\", \"7497\", \"7498...  \nC61H98O5+H     [\"7530\", \"7531\", \"7532\", \"7533\", \"7534\", \"7535...  \nC61H98O5+K     [\"7530\", \"7531\", \"7532\", \"7533\", \"7534\", \"7535...  \nC61H98O5+Na    [\"7530\", \"7531\", \"7532\", \"7533\", \"7534\", \"7535...  \n\n[674 rows x 11 columns]",
      "text/html": "<div>\n<style scoped>\n    .dataframe tbody tr th:only-of-type {\n        vertical-align: middle;\n    }\n\n    .dataframe tbody tr th {\n        vertical-align: top;\n    }\n\n    .dataframe thead th {\n        text-align: right;\n    }\n</style>\n<table border=\"1\" class=\"dataframe\">\n  <thead>\n    <tr style=\"text-align: right;\">\n      <th></th>\n      <th>annotation_id</th>\n      <th>formula</th>\n      <th>adduct</th>\n      <th>ionFormula</th>\n      <th>ion</th>\n      <th>mz</th>\n      <th>msm</th>\n      <th>fdr</th>\n      <th>databases</th>\n      <th>moleculeNames</th>\n      <th>moleculeIds</th>\n    </tr>\n  </thead>\n  <tbody>\n    <tr>\n      <th>C5H12O7P2+H</th>\n      <td>C5H12O7P2+H</td>\n      <td>C5H12O7P2</td>\n      <td>+H</td>\n      <td>C5H13O7P2</td>\n      <td>C5H12O7P2+H+</td>\n      <td>247.013063</td>\n      <td>0.448323</td>\n      <td>NaN</td>\n      <td>[[\"Gastrosome_singlecell_intraions\", \"v1\"]]</td>\n      <td>[\"Dimethylallylpyrophosphate\", \"Isopentenyl py...</td>\n      <td>[\"7526\", \"7527\", \"7528\", \"7529\"]</td>\n    </tr>\n    <tr>\n      <th>C5H12O7P2+K</th>\n      <td>C5H12O7P2+K</td>\n      <td>C5H12O7P2</td>\n      <td>+K</td>\n      <td>C5H12O7P2K</td>\n      <td>C5H12O7P2+K+</td>\n      <td>284.968945</td>\n      <td>0.000000</td>\n      <td>NaN</td>\n      <td>[[\"Gastrosome_singlecell_intraions\", \"v1\"]]</td>\n      <td>[\"Dimethylallylpyrophosphate\", \"Isopentenyl py...</td>\n      <td>[\"7526\", \"7527\", \"7528\", \"7529\"]</td>\n    </tr>\n    <tr>\n      <th>C5H12O7P2+Na</th>\n      <td>C5H12O7P2+Na</td>\n      <td>C5H12O7P2</td>\n      <td>+Na</td>\n      <td>C5H12O7P2Na</td>\n      <td>C5H12O7P2+Na+</td>\n      <td>268.995008</td>\n      <td>0.000000</td>\n      <td>NaN</td>\n      <td>[[\"Gastrosome_singlecell_intraions\", \"v1\"]]</td>\n      <td>[\"Dimethylallylpyrophosphate\", \"Isopentenyl py...</td>\n      <td>[\"7526\", \"7527\", \"7528\", \"7529\"]</td>\n    </tr>\n    <tr>\n      <th>C9H14N4O3+H</th>\n      <td>C9H14N4O3+H</td>\n      <td>C9H14N4O3</td>\n      <td>+H</td>\n      <td>C9H15N4O3</td>\n      <td>C9H14N4O3+H+</td>\n      <td>227.113828</td>\n      <td>0.000000</td>\n      <td>NaN</td>\n      <td>[[\"Gastrosome_singlecell_intraions\", \"v1\"]]</td>\n      <td>[\"Alanyl-Histidine\", \"Carnosine\", \"Histidinyl-...</td>\n      <td>[\"7559\", \"7560\", \"7561\"]</td>\n    </tr>\n    <tr>\n      <th>C9H14N4O3+K</th>\n      <td>C9H14N4O3+K</td>\n      <td>C9H14N4O3</td>\n      <td>+K</td>\n      <td>C9H14N4O3K</td>\n      <td>C9H14N4O3+K+</td>\n      <td>265.069709</td>\n      <td>0.000000</td>\n      <td>NaN</td>\n      <td>[[\"Gastrosome_singlecell_intraions\", \"v1\"]]</td>\n      <td>[\"Alanyl-Histidine\", \"Carnosine\", \"Histidinyl-...</td>\n      <td>[\"7559\", \"7560\", \"7561\"]</td>\n    </tr>\n    <tr>\n      <th>...</th>\n      <td>...</td>\n      <td>...</td>\n      <td>...</td>\n      <td>...</td>\n      <td>...</td>\n      <td>...</td>\n      <td>...</td>\n      <td>...</td>\n      <td>...</td>\n      <td>...</td>\n      <td>...</td>\n    </tr>\n    <tr>\n      <th>C57H101O7P+K</th>\n      <td>C57H101O7P+K</td>\n      <td>C57H101O7P</td>\n      <td>+K</td>\n      <td>C57H101O7PK</td>\n      <td>C57H101O7P+K+</td>\n      <td>967.691611</td>\n      <td>0.000000</td>\n      <td>NaN</td>\n      <td>[[\"Gastrosome_singlecell_intraions\", \"v1\"]]</td>\n      <td>[\"PA(O-18:1(11Z)/36:6(18Z,21Z,24Z,27Z,30Z,33Z)...</td>\n      <td>[\"7493\", \"7494\", \"7495\", \"7496\", \"7497\", \"7498...</td>\n    </tr>\n    <tr>\n      <th>C57H101O7P+Na</th>\n      <td>C57H101O7P+Na</td>\n      <td>C57H101O7P</td>\n      <td>+Na</td>\n      <td>C57H101O7PNa</td>\n      <td>C57H101O7P+Na+</td>\n      <td>951.717674</td>\n      <td>0.091886</td>\n      <td>NaN</td>\n      <td>[[\"Gastrosome_singlecell_intraions\", \"v1\"]]</td>\n      <td>[\"PA(O-18:1(11Z)/36:6(18Z,21Z,24Z,27Z,30Z,33Z)...</td>\n      <td>[\"7493\", \"7494\", \"7495\", \"7496\", \"7497\", \"7498...</td>\n    </tr>\n    <tr>\n      <th>C61H98O5+H</th>\n      <td>C61H98O5+H</td>\n      <td>C61H98O5</td>\n      <td>+H</td>\n      <td>C61H99O5</td>\n      <td>C61H98O5+H+</td>\n      <td>911.748663</td>\n      <td>0.000000</td>\n      <td>NaN</td>\n      <td>[[\"Gastrosome_singlecell_intraions\", \"v1\"]]</td>\n      <td>[\"TG(O-14:0/20:5(5Z,8Z,11Z,14Z,17Z)/24:6(6Z,9Z...</td>\n      <td>[\"7530\", \"7531\", \"7532\", \"7533\", \"7534\", \"7535...</td>\n    </tr>\n    <tr>\n      <th>C61H98O5+K</th>\n      <td>C61H98O5+K</td>\n      <td>C61H98O5</td>\n      <td>+K</td>\n      <td>C61H98O5K</td>\n      <td>C61H98O5+K+</td>\n      <td>949.704545</td>\n      <td>0.093179</td>\n      <td>NaN</td>\n      <td>[[\"Gastrosome_singlecell_intraions\", \"v1\"]]</td>\n      <td>[\"TG(O-14:0/20:5(5Z,8Z,11Z,14Z,17Z)/24:6(6Z,9Z...</td>\n      <td>[\"7530\", \"7531\", \"7532\", \"7533\", \"7534\", \"7535...</td>\n    </tr>\n    <tr>\n      <th>C61H98O5+Na</th>\n      <td>C61H98O5+Na</td>\n      <td>C61H98O5</td>\n      <td>+Na</td>\n      <td>C61H98O5Na</td>\n      <td>C61H98O5+Na+</td>\n      <td>933.730608</td>\n      <td>0.000000</td>\n      <td>NaN</td>\n      <td>[[\"Gastrosome_singlecell_intraions\", \"v1\"]]</td>\n      <td>[\"TG(O-14:0/20:5(5Z,8Z,11Z,14Z,17Z)/24:6(6Z,9Z...</td>\n      <td>[\"7530\", \"7531\", \"7532\", \"7533\", \"7534\", \"7535...</td>\n    </tr>\n  </tbody>\n</table>\n<p>674 rows × 11 columns</p>\n</div>"
     },
     "execution_count": 3,
     "metadata": {},
     "output_type": "execute_result"
    }
   ],
   "source": [
    "adata.var"
   ],
   "metadata": {
    "collapsed": false,
    "pycharm": {
     "name": "#%%\n"
    }
   }
  },
  {
   "cell_type": "code",
   "execution_count": 22,
   "outputs": [],
   "source": [
    "list_molecules_dbs = MS_databases\n",
    "copy=True,\n",
    "name_molecude_id_col=\"moleculeNames\"\n",
    "name_annotation_id_col=\"annotation_id\"\n",
    "name_out_inchi_col=\"inchi\"\n",
    "name_out_ids_col = 'correctMoleculeId'\n",
    "\n",
    "new_df_data = {'annotation_id': [],\n",
    "               'mol_index': [],\n",
    "               'num_mols': [],\n",
    "               'mol_id': []}\n",
    "\n",
    "# Unroll lists in the adata.var dataframe:\n",
    "for _, row in adata.var.iterrows():\n",
    "    ids = eval(row[name_molecude_id_col])\n",
    "    new_df_data[\"mol_id\"] += ids\n",
    "    new_df_data[\"mol_index\"] += range(len(ids))\n",
    "    new_df_data[\"annotation_id\"] += [row[name_annotation_id_col] for _ in range(len(ids))]\n",
    "    new_df_data[\"num_mols\"] += [len(ids) for _ in range(len(ids))]\n",
    "    # idx_range = range(len(ids))\n",
    "new_df = pd.DataFrame(new_df_data)\n",
    "\n",
    "# Now merge with METASPACE molecule databases:\n",
    "combined_molecules_db = pd.concat(list_molecules_dbs)"
   ],
   "metadata": {
    "collapsed": false,
    "pycharm": {
     "name": "#%%\n"
    }
   }
  },
  {
   "cell_type": "code",
   "execution_count": 6,
   "outputs": [],
   "source": [
    "# FIXME: this cell takes a while, make it more efficient, I could just remove double names\n",
    "combined_molecules_wo_duplicates = []\n",
    "for name, rows in combined_molecules_db.groupby(\"name\"):\n",
    "    selected = rows.iloc[0]\n",
    "    if rows.shape[0] > 1:\n",
    "        for i, id in enumerate(rows.id.sort_values(ascending=True)):\n",
    "            if \"HDB\" in id:\n",
    "                selected = rows.iloc[i]\n",
    "                break\n",
    "            elif \"SLM\" in id:\n",
    "                selected = rows.iloc[i]\n",
    "                break\n",
    "    combined_molecules_wo_duplicates.append(selected)\n",
    "combined_molecules_wo_duplicates = pd.DataFrame(combined_molecules_wo_duplicates)\n"
   ],
   "metadata": {
    "collapsed": false,
    "pycharm": {
     "name": "#%%\n"
    }
   }
  },
  {
   "cell_type": "code",
   "execution_count": 28,
   "outputs": [],
   "source": [
    "combined_molecules_wo_duplicates.drop(columns=\"Unnamed: 0\").reset_index(drop=True).to_csv(\"/Users/alberto-mac/EMBL_ATeam/projects/gastrosome/molecules_databases/merged_wo_duplicates.csv\")"
   ],
   "metadata": {
    "collapsed": false,
    "pycharm": {
     "name": "#%%\n"
    }
   }
  },
  {
   "cell_type": "code",
   "execution_count": 23,
   "outputs": [],
   "source": [
    "# Get rid of duplicates:\n",
    "\n",
    "combined_molecules_wo_duplicates = pd.read_csv(\"/Users/alberto-mac/EMBL_ATeam/projects/gastrosome/molecules_databases/merged_wo_duplicates.csv\")\n",
    "\n",
    "merged_df = pd.merge(new_df, combined_molecules_wo_duplicates, how=\"left\", left_on=\"mol_id\", right_on=\"name\")\n",
    "\n",
    "# Finally, get inchi column in original format:\n",
    "var_df = adata.var.copy()\n",
    "inchi_lists = [None for _ in range(len(var_df))]\n",
    "id_lists = [None for _ in range(len(var_df))]\n",
    "for _, row in merged_df.iterrows():\n",
    "    idx = var_df.index.get_loc(row[name_annotation_id_col])\n",
    "    inchi = inchi_lists[idx]\n",
    "    ids = id_lists[idx]\n",
    "    if inchi is None:\n",
    "        inchi = [None for _ in range(row.num_mols)]\n",
    "        ids = [None for _ in range(row.num_mols)]\n",
    "    inchi[row.mol_index] = str(row.inchi)\n",
    "    ids[row.mol_index] = str(row.id)\n",
    "    inchi_lists[idx] = inchi\n",
    "    id_lists[idx] = ids\n",
    "\n",
    "var_df[name_out_inchi_col] = inchi_lists\n",
    "var_df[name_out_ids_col] = id_lists\n",
    "\n",
    "# if copy:\n",
    "#     return var_df\n",
    "# else:\n",
    "adata.var[name_out_inchi_col] = inchi_lists\n",
    "adata.var[name_out_ids_col] = id_lists\n",
    "\n",
    "\n"
   ],
   "metadata": {
    "collapsed": false,
    "pycharm": {
     "name": "#%%\n"
    }
   }
  }
 ],
 "metadata": {
  "kernelspec": {
   "display_name": "Python 3",
   "language": "python",
   "name": "python3"
  },
  "language_info": {
   "codemirror_mode": {
    "name": "ipython",
    "version": 2
   },
   "file_extension": ".py",
   "mimetype": "text/x-python",
   "name": "python",
   "nbconvert_exporter": "python",
   "pygments_lexer": "ipython2",
   "version": "2.7.6"
  },
  "pycharm": {
   "stem_cell": {
    "cell_type": "raw",
    "source": [
     "\n"
    ],
    "metadata": {
     "collapsed": false
    }
   }
  }
 },
 "nbformat": 4,
 "nbformat_minor": 0
}