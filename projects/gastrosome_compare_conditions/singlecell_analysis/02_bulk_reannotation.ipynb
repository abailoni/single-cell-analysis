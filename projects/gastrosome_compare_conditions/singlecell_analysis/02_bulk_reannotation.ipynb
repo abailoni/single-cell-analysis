{
 "cells": [
  {
   "cell_type": "markdown",
   "id": "81d00c20",
   "metadata": {},
   "source": [
    "# METASPACE bulk reannotation\n",
    "\n",
    "v1.1 - [Changelog](changelog_bulk_reannotation.md)\n",
    "\n",
    "This notebook shows how to reannotate multiple METASPACE datasets against a new database."
   ]
  },
  {
   "cell_type": "markdown",
   "id": "504b55f0",
   "metadata": {},
   "source": [
    "### Setup"
   ]
  },
  {
   "cell_type": "markdown",
   "id": "969cca9c",
   "metadata": {},
   "source": [
    "Before running this notebook, ensure that you have [set up your API key](https://metaspace2020.readthedocs.io/en/latest/content/examples/fetch-dataset-annotations.html#Connect-to-the-sm-server) for METASPACE!"
   ]
  },
  {
   "cell_type": "code",
   "execution_count": 1,
   "id": "0694ca7b",
   "metadata": {},
   "outputs": [],
   "source": [
    "from metaspace import SMInstance"
   ]
  },
  {
   "cell_type": "code",
   "execution_count": 2,
   "id": "ee06f190",
   "metadata": {},
   "outputs": [],
   "source": [
    "sm = SMInstance()"
   ]
  },
  {
   "cell_type": "markdown",
   "id": "addc0418",
   "metadata": {},
   "source": [
    "If you want to reannotate all datasets within a project, you can also download the project's metadata as a CSV file:  \n",
    "\n",
    "![](project_export.png)\n"
   ]
  },
  {
   "cell_type": "markdown",
   "id": "d4d6a6d7",
   "metadata": {},
   "source": [
    "...which you can then import into this notebook to get the dataset ids:"
   ]
  },
  {
   "cell_type": "code",
   "execution_count": 8,
   "id": "15ac8647",
   "metadata": {},
   "outputs": [
    {
     "data": {
      "text/plain": "               datasetId                                        datasetName  \\\n0   2021-10-27_00h20m47s  2021-28-09_Gastrosome_Slide6Drugs_Well8_150x15...   \n1   2021-10-27_00h05m07s  2021-28-09_Gastrosome_Slide5Feeding_Well3_150x...   \n2   2021-10-27_23h59m41s  2021-28-09_Gastrosome_Slide1control_well7_100x...   \n3   2021-10-27_23h59m25s  2021-28-09_Gastrosome_Slide1control_well8_100x...   \n4   2021-10-27_00h32m38s  2021-28-09_Gastrosome_Slide1control_well4_150x...   \n5   2021-10-27_00h20m58s  2021-28-09_Gastrosome_Slide6Drugs_Well4_150x15...   \n6   2021-10-27_00h16m49s  2021-28-09_Gastrosome_Slide6Drugs_Well3_150x15...   \n7   2021-10-27_00h09m40s  2021-28-09_Gastrosome_Slide5Feeding_Well8_150x...   \n8   2021-10-27_00h03m04s  2021-28-09_Gastrosome_Slide5Feeding_Well7_150x...   \n9   2021-10-26_23h23m07s  2021-28-09_Gastrosome_Slide1control_well3_100x...   \n10  2021-10-16_00h24m59s  2021-28-09_Gastrosome_Slide6Drugs_Well7_150x15...   \n\n   condition  well  slide  MALDI_size  PreMaldi_res  PostMaldi_res   group  \\\n0      Drugs     8      6         150          0.64           0.64  ♡EMBL♡   \n1    Feeding     3      5         150          0.64           0.64  ♡EMBL♡   \n2    Control     7      1         100          0.64           0.64  ♡EMBL♡   \n3    Control     8      1         100          0.64           0.64  ♡EMBL♡   \n4    Control     4      1         150          0.64           0.64  ♡EMBL♡   \n5      Drugs     4      6         150          0.64           0.64  ♡EMBL♡   \n6      Drugs     3      6         150          0.64           0.64  ♡EMBL♡   \n7    Feeding     8      5         150          0.64           0.64  ♡EMBL♡   \n8    Feeding     7      5         150          0.64           0.64  ♡EMBL♡   \n9    Control     3      1         100          0.64           0.64  ♡EMBL♡   \n10     Drugs     7      6         150          0.64           0.64  ♡EMBL♡   \n\n           submitter  ... maldiMatrix  analyzer resPower400  polarity  \\\n0   Mohammed Shahraz  ...         DHB  Orbitrap       98995  positive   \n1   Mohammed Shahraz  ...         DHB  Orbitrap       98995  positive   \n2   Mohammed Shahraz  ...         DHB  Orbitrap       98995  positive   \n3   Mohammed Shahraz  ...         DHB  Orbitrap       98995  positive   \n4   Mohammed Shahraz  ...         DHB  Orbitrap       98995  positive   \n5   Mohammed Shahraz  ...         DHB  Orbitrap       98995  positive   \n6   Mohammed Shahraz  ...         DHB  Orbitrap       98995  positive   \n7   Mohammed Shahraz  ...         DHB  Orbitrap       98995  positive   \n8   Mohammed Shahraz  ...         DHB  Orbitrap       98995  positive   \n9   Mohammed Shahraz  ...         DHB  Orbitrap       98995  positive   \n10  Mohammed Shahraz  ...         DHB  Orbitrap       98995  positive   \n\n                uploadDateTime FDR@10%                  database  \\\n0   2021-10-26T18:20:47.944000     132  SwissLipids - 2018-02-02   \n1   2021-10-26T18:05:07.978000     107  SwissLipids - 2018-02-02   \n2   2021-10-27T23:59:41.744511      94       CoreMetabolome - v3   \n3   2021-10-27T23:59:25.751249     113  SwissLipids - 2018-02-02   \n4   2021-10-27T00:32:39.557240     148  SwissLipids - 2018-02-02   \n5   2021-10-27T00:20:59.427535      74       CoreMetabolome - v3   \n6   2021-10-27T00:16:49.937781      34       CoreMetabolome - v3   \n7   2021-10-27T00:09:40.949112      93  SwissLipids - 2018-02-02   \n8   2021-10-27T00:03:04.917123      69  SwissLipids - 2018-02-02   \n9   2021-10-26T23:23:07.395537      65  SwissLipids - 2018-02-02   \n10  2021-10-16T00:24:59.204349      83  SwissLipids - 2018-02-02   \n\n                                         opticalImage  \\\n0   https://metaspace2020.eu/fs/raw_optical_images...   \n1   https://metaspace2020.eu/fs/raw_optical_images...   \n2                                    No optical image   \n3                                    No optical image   \n4                                    No optical image   \n5                                    No optical image   \n6                                    No optical image   \n7                                    No optical image   \n8                                    No optical image   \n9                                    No optical image   \n10                                   No optical image   \n\n                          metaspace_download_dir_path  \\\n0   /Users/alberto-mac/EMBL_ATeam/projects/gastros...   \n1   /Users/alberto-mac/EMBL_ATeam/projects/gastros...   \n2   /Users/alberto-mac/EMBL_ATeam/projects/gastros...   \n3   /Users/alberto-mac/EMBL_ATeam/projects/gastros...   \n4   /Users/alberto-mac/EMBL_ATeam/projects/gastros...   \n5   /Users/alberto-mac/EMBL_ATeam/projects/gastros...   \n6   /Users/alberto-mac/EMBL_ATeam/projects/gastros...   \n7   /Users/alberto-mac/EMBL_ATeam/projects/gastros...   \n8   /Users/alberto-mac/EMBL_ATeam/projects/gastros...   \n9   /Users/alberto-mac/EMBL_ATeam/projects/gastros...   \n10  /Users/alberto-mac/EMBL_ATeam/projects/gastros...   \n\n                                                 path  \n0   /scratch/bailoni/projects/gastrosome_processin...  \n1   /scratch/bailoni/projects/gastrosome_processin...  \n2   /scratch/bailoni/projects/gastrosome_processin...  \n3   /scratch/bailoni/projects/gastrosome_processin...  \n4   /scratch/bailoni/projects/gastrosome_processin...  \n5   /scratch/bailoni/projects/gastrosome_processin...  \n6   /scratch/bailoni/projects/gastrosome_processin...  \n7   /scratch/bailoni/projects/gastrosome_processin...  \n8   /scratch/bailoni/projects/gastrosome_processin...  \n9   /scratch/bailoni/projects/gastrosome_processin...  \n10  /scratch/bailoni/projects/gastrosome_processin...  \n\n[11 rows x 26 columns]",
      "text/html": "<div>\n<style scoped>\n    .dataframe tbody tr th:only-of-type {\n        vertical-align: middle;\n    }\n\n    .dataframe tbody tr th {\n        vertical-align: top;\n    }\n\n    .dataframe thead th {\n        text-align: right;\n    }\n</style>\n<table border=\"1\" class=\"dataframe\">\n  <thead>\n    <tr style=\"text-align: right;\">\n      <th></th>\n      <th>datasetId</th>\n      <th>datasetName</th>\n      <th>condition</th>\n      <th>well</th>\n      <th>slide</th>\n      <th>MALDI_size</th>\n      <th>PreMaldi_res</th>\n      <th>PostMaldi_res</th>\n      <th>group</th>\n      <th>submitter</th>\n      <th>...</th>\n      <th>maldiMatrix</th>\n      <th>analyzer</th>\n      <th>resPower400</th>\n      <th>polarity</th>\n      <th>uploadDateTime</th>\n      <th>FDR@10%</th>\n      <th>database</th>\n      <th>opticalImage</th>\n      <th>metaspace_download_dir_path</th>\n      <th>path</th>\n    </tr>\n  </thead>\n  <tbody>\n    <tr>\n      <th>0</th>\n      <td>2021-10-27_00h20m47s</td>\n      <td>2021-28-09_Gastrosome_Slide6Drugs_Well8_150x15...</td>\n      <td>Drugs</td>\n      <td>8</td>\n      <td>6</td>\n      <td>150</td>\n      <td>0.64</td>\n      <td>0.64</td>\n      <td>♡EMBL♡</td>\n      <td>Mohammed Shahraz</td>\n      <td>...</td>\n      <td>DHB</td>\n      <td>Orbitrap</td>\n      <td>98995</td>\n      <td>positive</td>\n      <td>2021-10-26T18:20:47.944000</td>\n      <td>132</td>\n      <td>SwissLipids - 2018-02-02</td>\n      <td>https://metaspace2020.eu/fs/raw_optical_images...</td>\n      <td>/Users/alberto-mac/EMBL_ATeam/projects/gastros...</td>\n      <td>/scratch/bailoni/projects/gastrosome_processin...</td>\n    </tr>\n    <tr>\n      <th>1</th>\n      <td>2021-10-27_00h05m07s</td>\n      <td>2021-28-09_Gastrosome_Slide5Feeding_Well3_150x...</td>\n      <td>Feeding</td>\n      <td>3</td>\n      <td>5</td>\n      <td>150</td>\n      <td>0.64</td>\n      <td>0.64</td>\n      <td>♡EMBL♡</td>\n      <td>Mohammed Shahraz</td>\n      <td>...</td>\n      <td>DHB</td>\n      <td>Orbitrap</td>\n      <td>98995</td>\n      <td>positive</td>\n      <td>2021-10-26T18:05:07.978000</td>\n      <td>107</td>\n      <td>SwissLipids - 2018-02-02</td>\n      <td>https://metaspace2020.eu/fs/raw_optical_images...</td>\n      <td>/Users/alberto-mac/EMBL_ATeam/projects/gastros...</td>\n      <td>/scratch/bailoni/projects/gastrosome_processin...</td>\n    </tr>\n    <tr>\n      <th>2</th>\n      <td>2021-10-27_23h59m41s</td>\n      <td>2021-28-09_Gastrosome_Slide1control_well7_100x...</td>\n      <td>Control</td>\n      <td>7</td>\n      <td>1</td>\n      <td>100</td>\n      <td>0.64</td>\n      <td>0.64</td>\n      <td>♡EMBL♡</td>\n      <td>Mohammed Shahraz</td>\n      <td>...</td>\n      <td>DHB</td>\n      <td>Orbitrap</td>\n      <td>98995</td>\n      <td>positive</td>\n      <td>2021-10-27T23:59:41.744511</td>\n      <td>94</td>\n      <td>CoreMetabolome - v3</td>\n      <td>No optical image</td>\n      <td>/Users/alberto-mac/EMBL_ATeam/projects/gastros...</td>\n      <td>/scratch/bailoni/projects/gastrosome_processin...</td>\n    </tr>\n    <tr>\n      <th>3</th>\n      <td>2021-10-27_23h59m25s</td>\n      <td>2021-28-09_Gastrosome_Slide1control_well8_100x...</td>\n      <td>Control</td>\n      <td>8</td>\n      <td>1</td>\n      <td>100</td>\n      <td>0.64</td>\n      <td>0.64</td>\n      <td>♡EMBL♡</td>\n      <td>Mohammed Shahraz</td>\n      <td>...</td>\n      <td>DHB</td>\n      <td>Orbitrap</td>\n      <td>98995</td>\n      <td>positive</td>\n      <td>2021-10-27T23:59:25.751249</td>\n      <td>113</td>\n      <td>SwissLipids - 2018-02-02</td>\n      <td>No optical image</td>\n      <td>/Users/alberto-mac/EMBL_ATeam/projects/gastros...</td>\n      <td>/scratch/bailoni/projects/gastrosome_processin...</td>\n    </tr>\n    <tr>\n      <th>4</th>\n      <td>2021-10-27_00h32m38s</td>\n      <td>2021-28-09_Gastrosome_Slide1control_well4_150x...</td>\n      <td>Control</td>\n      <td>4</td>\n      <td>1</td>\n      <td>150</td>\n      <td>0.64</td>\n      <td>0.64</td>\n      <td>♡EMBL♡</td>\n      <td>Mohammed Shahraz</td>\n      <td>...</td>\n      <td>DHB</td>\n      <td>Orbitrap</td>\n      <td>98995</td>\n      <td>positive</td>\n      <td>2021-10-27T00:32:39.557240</td>\n      <td>148</td>\n      <td>SwissLipids - 2018-02-02</td>\n      <td>No optical image</td>\n      <td>/Users/alberto-mac/EMBL_ATeam/projects/gastros...</td>\n      <td>/scratch/bailoni/projects/gastrosome_processin...</td>\n    </tr>\n    <tr>\n      <th>5</th>\n      <td>2021-10-27_00h20m58s</td>\n      <td>2021-28-09_Gastrosome_Slide6Drugs_Well4_150x15...</td>\n      <td>Drugs</td>\n      <td>4</td>\n      <td>6</td>\n      <td>150</td>\n      <td>0.64</td>\n      <td>0.64</td>\n      <td>♡EMBL♡</td>\n      <td>Mohammed Shahraz</td>\n      <td>...</td>\n      <td>DHB</td>\n      <td>Orbitrap</td>\n      <td>98995</td>\n      <td>positive</td>\n      <td>2021-10-27T00:20:59.427535</td>\n      <td>74</td>\n      <td>CoreMetabolome - v3</td>\n      <td>No optical image</td>\n      <td>/Users/alberto-mac/EMBL_ATeam/projects/gastros...</td>\n      <td>/scratch/bailoni/projects/gastrosome_processin...</td>\n    </tr>\n    <tr>\n      <th>6</th>\n      <td>2021-10-27_00h16m49s</td>\n      <td>2021-28-09_Gastrosome_Slide6Drugs_Well3_150x15...</td>\n      <td>Drugs</td>\n      <td>3</td>\n      <td>6</td>\n      <td>150</td>\n      <td>0.64</td>\n      <td>0.64</td>\n      <td>♡EMBL♡</td>\n      <td>Mohammed Shahraz</td>\n      <td>...</td>\n      <td>DHB</td>\n      <td>Orbitrap</td>\n      <td>98995</td>\n      <td>positive</td>\n      <td>2021-10-27T00:16:49.937781</td>\n      <td>34</td>\n      <td>CoreMetabolome - v3</td>\n      <td>No optical image</td>\n      <td>/Users/alberto-mac/EMBL_ATeam/projects/gastros...</td>\n      <td>/scratch/bailoni/projects/gastrosome_processin...</td>\n    </tr>\n    <tr>\n      <th>7</th>\n      <td>2021-10-27_00h09m40s</td>\n      <td>2021-28-09_Gastrosome_Slide5Feeding_Well8_150x...</td>\n      <td>Feeding</td>\n      <td>8</td>\n      <td>5</td>\n      <td>150</td>\n      <td>0.64</td>\n      <td>0.64</td>\n      <td>♡EMBL♡</td>\n      <td>Mohammed Shahraz</td>\n      <td>...</td>\n      <td>DHB</td>\n      <td>Orbitrap</td>\n      <td>98995</td>\n      <td>positive</td>\n      <td>2021-10-27T00:09:40.949112</td>\n      <td>93</td>\n      <td>SwissLipids - 2018-02-02</td>\n      <td>No optical image</td>\n      <td>/Users/alberto-mac/EMBL_ATeam/projects/gastros...</td>\n      <td>/scratch/bailoni/projects/gastrosome_processin...</td>\n    </tr>\n    <tr>\n      <th>8</th>\n      <td>2021-10-27_00h03m04s</td>\n      <td>2021-28-09_Gastrosome_Slide5Feeding_Well7_150x...</td>\n      <td>Feeding</td>\n      <td>7</td>\n      <td>5</td>\n      <td>150</td>\n      <td>0.64</td>\n      <td>0.64</td>\n      <td>♡EMBL♡</td>\n      <td>Mohammed Shahraz</td>\n      <td>...</td>\n      <td>DHB</td>\n      <td>Orbitrap</td>\n      <td>98995</td>\n      <td>positive</td>\n      <td>2021-10-27T00:03:04.917123</td>\n      <td>69</td>\n      <td>SwissLipids - 2018-02-02</td>\n      <td>No optical image</td>\n      <td>/Users/alberto-mac/EMBL_ATeam/projects/gastros...</td>\n      <td>/scratch/bailoni/projects/gastrosome_processin...</td>\n    </tr>\n    <tr>\n      <th>9</th>\n      <td>2021-10-26_23h23m07s</td>\n      <td>2021-28-09_Gastrosome_Slide1control_well3_100x...</td>\n      <td>Control</td>\n      <td>3</td>\n      <td>1</td>\n      <td>100</td>\n      <td>0.64</td>\n      <td>0.64</td>\n      <td>♡EMBL♡</td>\n      <td>Mohammed Shahraz</td>\n      <td>...</td>\n      <td>DHB</td>\n      <td>Orbitrap</td>\n      <td>98995</td>\n      <td>positive</td>\n      <td>2021-10-26T23:23:07.395537</td>\n      <td>65</td>\n      <td>SwissLipids - 2018-02-02</td>\n      <td>No optical image</td>\n      <td>/Users/alberto-mac/EMBL_ATeam/projects/gastros...</td>\n      <td>/scratch/bailoni/projects/gastrosome_processin...</td>\n    </tr>\n    <tr>\n      <th>10</th>\n      <td>2021-10-16_00h24m59s</td>\n      <td>2021-28-09_Gastrosome_Slide6Drugs_Well7_150x15...</td>\n      <td>Drugs</td>\n      <td>7</td>\n      <td>6</td>\n      <td>150</td>\n      <td>0.64</td>\n      <td>0.64</td>\n      <td>♡EMBL♡</td>\n      <td>Mohammed Shahraz</td>\n      <td>...</td>\n      <td>DHB</td>\n      <td>Orbitrap</td>\n      <td>98995</td>\n      <td>positive</td>\n      <td>2021-10-16T00:24:59.204349</td>\n      <td>83</td>\n      <td>SwissLipids - 2018-02-02</td>\n      <td>No optical image</td>\n      <td>/Users/alberto-mac/EMBL_ATeam/projects/gastros...</td>\n      <td>/scratch/bailoni/projects/gastrosome_processin...</td>\n    </tr>\n  </tbody>\n</table>\n<p>11 rows × 26 columns</p>\n</div>"
     },
     "execution_count": 8,
     "metadata": {},
     "output_type": "execute_result"
    }
   ],
   "source": [
    "import pandas as pd\n",
    "\n",
    "metadata = pd.read_csv(\"/Users/alberto-mac/Documents/DA_ESPORTARE/LOCAL_EMBL_FILES/scratch/projects/gastrosome_processing_full/spacem/spacem_datasets_paths_filtered.csv\")\n",
    "metadata"
   ]
  },
  {
   "cell_type": "code",
   "execution_count": 9,
   "id": "c0341ddf",
   "metadata": {},
   "outputs": [
    {
     "data": {
      "text/plain": "['2021-10-27_00h32m38s',\n '2021-10-27_00h20m58s',\n '2021-10-27_00h09m40s',\n '2021-10-26_23h23m07s']"
     },
     "execution_count": 9,
     "metadata": {},
     "output_type": "execute_result"
    }
   ],
   "source": [
    "# metadata_subset = metadata.loc[~metadata.index.isin([6]), :]\n",
    "# Only select datasets that failed:\n",
    "metadata = metadata.loc[metadata.index.isin([7, 4, 9, 5]), :]\n",
    "# 7, 9\n",
    "\n",
    "datasets = metadata.datasetId.to_list()\n",
    "datasets"
   ]
  },
  {
   "cell_type": "markdown",
   "id": "ab2f7661",
   "metadata": {},
   "source": [
    "### Selecting the database for reannotation"
   ]
  },
  {
   "cell_type": "markdown",
   "id": "a03fc33a-e8c0-4041-a2e6-a7879bd0a084",
   "metadata": {},
   "source": [
    "If you are unsure which ID corresponds to the database you want to reannotate against, you can determine it based on its name and version:"
   ]
  },
  {
   "cell_type": "code",
   "execution_count": 11,
   "id": "669fbc58-9bbf-449c-8df4-cff3078ef7f6",
   "metadata": {},
   "outputs": [
    {
     "data": {
      "text/plain": "579"
     },
     "execution_count": 11,
     "metadata": {},
     "output_type": "execute_result"
    }
   ],
   "source": [
    "new_db_id = sm.database(name=\"Gastrosome_singlecell_intraions\", version=\"v1\").id\n",
    "# new_db_id = sm.database(name=\"Gastrosome_singlecell_intraions_2\", version=\"v1\").id\n",
    "new_db_id"
   ]
  },
  {
   "cell_type": "markdown",
   "id": "1912648a-527f-4a8c-add7-649a0149da73",
   "metadata": {},
   "source": [
    "<div class=\"alert alert-info\"> \n",
    "\n",
    "**Note:** If this returns nothing this database/version does not exist!\n",
    "\n",
    "</div>\n",
    "\n",
    "Once you do have your database's ID, enter it here:"
   ]
  },
  {
   "cell_type": "code",
   "execution_count": 6,
   "id": "c1179362",
   "metadata": {},
   "outputs": [],
   "source": [
    "# new_db_id = 579 # (38 is CoreMetabolome v3)"
   ]
  },
  {
   "cell_type": "markdown",
   "id": "7b8cd287",
   "metadata": {},
   "source": [
    "<div class=\"alert alert-info\"> \n",
    "\n",
    "**Note:** the dataset(s) will be reannotated against the new databases **in addition to the ones already annotated against.**\n",
    "\n",
    "</div>"
   ]
  },
  {
   "cell_type": "markdown",
   "id": "cd022f28",
   "metadata": {},
   "source": [
    "### Submitting datasets for reannotation"
   ]
  },
  {
   "cell_type": "code",
   "execution_count": 7,
   "id": "81f7a737",
   "metadata": {},
   "outputs": [
    {
     "name": "stdout",
     "output_type": "stream",
     "text": [
      "2021-28-09_Gastrosome_Slide5Feeding_Well8_150x150_a29ss25_DHBpos\n",
      "Dataset has already been annotated against this database!\n"
     ]
    }
   ],
   "source": [
    "for ds_id in datasets:\n",
    "    ds = sm.dataset(id=ds_id)\n",
    "    print(ds.name)\n",
    "    database_ids = [db[\"id\"] for db in ds.database_details]\n",
    "    database_ids\n",
    "    if new_db_id not in database_ids:\n",
    "        new_databases = database_ids + [new_db_id]\n",
    "        print(\"Adding new db...\")\n",
    "        sm.update_dataset_dbs(ds.id, new_databases, ds.adducts)\n",
    "    else:\n",
    "        print(\"Dataset has already been annotated against this database!\")"
   ]
  },
  {
   "cell_type": "markdown",
   "id": "8ab80216",
   "metadata": {},
   "source": [
    "Once METASPACE has finished reannotion of your datasets, open up SpaceM again, load the reannotated dataset and move to the Dataset Reprocessing step, where you will now be able to select the new database."
   ]
  }
 ],
 "metadata": {
  "interpreter": {
   "hash": "08a81da450176f68f0fd09394825ffa794b72fdb2e8c66741a66dd046756b15a"
  },
  "kernelspec": {
   "display_name": "Python [conda env:sca]",
   "language": "python",
   "name": "python3"
  },
  "language_info": {
   "codemirror_mode": {
    "name": "ipython",
    "version": 3
   },
   "file_extension": ".py",
   "mimetype": "text/x-python",
   "name": "python",
   "nbconvert_exporter": "python",
   "pygments_lexer": "ipython3",
   "version": "3.8.12"
  }
 },
 "nbformat": 4,
 "nbformat_minor": 5
}